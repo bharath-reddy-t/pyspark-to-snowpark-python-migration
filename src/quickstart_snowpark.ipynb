{
 "cells": [
  {
   "cell_type": "markdown",
   "id": "8816a207",
   "metadata": {},
   "source": [
    "#### This notebook is part 2 of the quickstart. In part1, we have written pyspark code to perform analysis on uber dataset. In this notebook, we will utilize same dataset and perform same analysis using snowpark python."
   ]
  },
  {
   "cell_type": "code",
   "execution_count": 1,
   "id": "bf9ce121",
   "metadata": {},
   "outputs": [],
   "source": [
    "#import required libraries\n",
    "from snowflake.snowpark import Session\n",
    "\n",
    "from snowflake.snowpark.functions import *\n",
    "from snowflake.snowpark.types import *\n",
    "from snowflake.snowpark import functions as F\n",
    "from snowflake.snowpark import Window\n",
    "import pandas as pd\n",
    "import numpy as np"
   ]
  },
  {
   "cell_type": "markdown",
   "id": "2fa64d61",
   "metadata": {},
   "source": [
    "- create a snowflake trail account if you do not have one.\n",
    "- create a database, schema and a stage\n",
    "- Upload uber dataset to your stage. We will read data from this stage and make some transformations"
   ]
  },
  {
   "cell_type": "markdown",
   "id": "e86edbb2",
   "metadata": {},
   "source": [
    "### Connect to Snowflake and load data"
   ]
  },
  {
   "cell_type": "code",
   "execution_count": 2,
   "id": "19169dd4",
   "metadata": {},
   "outputs": [],
   "source": [
    "connection_parameters = {\n",
    "       \"account\": \"<your snowflake account excluding snowflakecomputing.com>\",\n",
    "       \"user\": \"<snowflake username>\",\n",
    "       \"password\": \"<password>\",\n",
    "       \"warehouse\": \"<snowflake warehouse name>\"\n",
    "}  \n",
    "\n",
    "session = Session.builder.configs(connection_parameters).create()  "
   ]
  },
  {
   "cell_type": "code",
   "execution_count": 3,
   "id": "9b39e9d9",
   "metadata": {},
   "outputs": [
    {
     "data": {
      "text/plain": [
       "[Row(name='snowpark_stage/uber-dataset-1.csv.gz', size=2320, md5='6b963527e5d908ea9bff6e7438a9fbff', last_modified='Thu, 6 Apr 2023 13:14:08 GMT'),\n",
       " Row(name='snowpark_stage/uber_transformed.csv.gz', size=3232, md5='ea9f1c4a40a6269767aa5b94f803a3c1', last_modified='Thu, 6 Apr 2023 13:26:12 GMT')]"
      ]
     },
     "execution_count": 3,
     "metadata": {},
     "output_type": "execute_result"
    }
   ],
   "source": [
    "session.sql(\"use database snowpark\").collect()\n",
    "session.sql(\"use schema dev\").collect()\n",
    "session.sql(\"list @snowpark_stage/\").collect()"
   ]
  },
  {
   "cell_type": "code",
   "execution_count": 4,
   "id": "661de728",
   "metadata": {},
   "outputs": [],
   "source": [
    "uber_schema = StructType([\n",
    "    StructField(\"Date\", StringType()),\n",
    "    StructField(\"Time_Local\", IntegerType()),\n",
    "    StructField(\"Eyeballs\", IntegerType()),\n",
    "    StructField(\"Zeroes\", IntegerType()),\n",
    "    StructField(\"Completed_Trips\", IntegerType()),\n",
    "    StructField(\"Requests\", IntegerType()),\n",
    "    StructField(\"Unique_Drivers\", IntegerType())\n",
    "])"
   ]
  },
  {
   "cell_type": "code",
   "execution_count": 5,
   "id": "c324dd89",
   "metadata": {},
   "outputs": [],
   "source": [
    "uber_pd = session.read.option(\"field_delimiter\", \",\").option(\"skip_header\", 1)\\\n",
    "                 .schema(uber_schema).csv(\"@snowpark_stage/uber-dataset-1.csv.gz\")"
   ]
  },
  {
   "cell_type": "code",
   "execution_count": 6,
   "id": "23c78e03",
   "metadata": {},
   "outputs": [
    {
     "data": {
      "text/html": [
       "<div>\n",
       "<style scoped>\n",
       "    .dataframe tbody tr th:only-of-type {\n",
       "        vertical-align: middle;\n",
       "    }\n",
       "\n",
       "    .dataframe tbody tr th {\n",
       "        vertical-align: top;\n",
       "    }\n",
       "\n",
       "    .dataframe thead th {\n",
       "        text-align: right;\n",
       "    }\n",
       "</style>\n",
       "<table border=\"1\" class=\"dataframe\">\n",
       "  <thead>\n",
       "    <tr style=\"text-align: right;\">\n",
       "      <th></th>\n",
       "      <th>DATE</th>\n",
       "      <th>TIME_LOCAL</th>\n",
       "      <th>EYEBALLS</th>\n",
       "      <th>ZEROES</th>\n",
       "      <th>COMPLETED_TRIPS</th>\n",
       "      <th>REQUESTS</th>\n",
       "      <th>UNIQUE_DRIVERS</th>\n",
       "    </tr>\n",
       "  </thead>\n",
       "  <tbody>\n",
       "    <tr>\n",
       "      <th>0</th>\n",
       "      <td>10-Sep-12</td>\n",
       "      <td>7</td>\n",
       "      <td>5</td>\n",
       "      <td>0</td>\n",
       "      <td>2</td>\n",
       "      <td>2</td>\n",
       "      <td>9</td>\n",
       "    </tr>\n",
       "    <tr>\n",
       "      <th>1</th>\n",
       "      <td>10-Sep-12</td>\n",
       "      <td>8</td>\n",
       "      <td>6</td>\n",
       "      <td>0</td>\n",
       "      <td>2</td>\n",
       "      <td>2</td>\n",
       "      <td>14</td>\n",
       "    </tr>\n",
       "    <tr>\n",
       "      <th>2</th>\n",
       "      <td>10-Sep-12</td>\n",
       "      <td>9</td>\n",
       "      <td>8</td>\n",
       "      <td>3</td>\n",
       "      <td>0</td>\n",
       "      <td>0</td>\n",
       "      <td>14</td>\n",
       "    </tr>\n",
       "    <tr>\n",
       "      <th>3</th>\n",
       "      <td>10-Sep-12</td>\n",
       "      <td>10</td>\n",
       "      <td>9</td>\n",
       "      <td>2</td>\n",
       "      <td>0</td>\n",
       "      <td>1</td>\n",
       "      <td>14</td>\n",
       "    </tr>\n",
       "    <tr>\n",
       "      <th>4</th>\n",
       "      <td>10-Sep-12</td>\n",
       "      <td>11</td>\n",
       "      <td>11</td>\n",
       "      <td>1</td>\n",
       "      <td>4</td>\n",
       "      <td>4</td>\n",
       "      <td>11</td>\n",
       "    </tr>\n",
       "    <tr>\n",
       "      <th>...</th>\n",
       "      <td>...</td>\n",
       "      <td>...</td>\n",
       "      <td>...</td>\n",
       "      <td>...</td>\n",
       "      <td>...</td>\n",
       "      <td>...</td>\n",
       "      <td>...</td>\n",
       "    </tr>\n",
       "    <tr>\n",
       "      <th>331</th>\n",
       "      <td>24-Sep-12</td>\n",
       "      <td>2</td>\n",
       "      <td>3</td>\n",
       "      <td>3</td>\n",
       "      <td>0</td>\n",
       "      <td>2</td>\n",
       "      <td>0</td>\n",
       "    </tr>\n",
       "    <tr>\n",
       "      <th>332</th>\n",
       "      <td>24-Sep-12</td>\n",
       "      <td>3</td>\n",
       "      <td>3</td>\n",
       "      <td>3</td>\n",
       "      <td>0</td>\n",
       "      <td>1</td>\n",
       "      <td>0</td>\n",
       "    </tr>\n",
       "    <tr>\n",
       "      <th>333</th>\n",
       "      <td>24-Sep-12</td>\n",
       "      <td>4</td>\n",
       "      <td>1</td>\n",
       "      <td>1</td>\n",
       "      <td>0</td>\n",
       "      <td>0</td>\n",
       "      <td>0</td>\n",
       "    </tr>\n",
       "    <tr>\n",
       "      <th>334</th>\n",
       "      <td>24-Sep-12</td>\n",
       "      <td>5</td>\n",
       "      <td>4</td>\n",
       "      <td>2</td>\n",
       "      <td>1</td>\n",
       "      <td>1</td>\n",
       "      <td>3</td>\n",
       "    </tr>\n",
       "    <tr>\n",
       "      <th>335</th>\n",
       "      <td>24-Sep-12</td>\n",
       "      <td>6</td>\n",
       "      <td>9</td>\n",
       "      <td>1</td>\n",
       "      <td>2</td>\n",
       "      <td>2</td>\n",
       "      <td>7</td>\n",
       "    </tr>\n",
       "  </tbody>\n",
       "</table>\n",
       "<p>336 rows × 7 columns</p>\n",
       "</div>"
      ],
      "text/plain": [
       "          DATE  TIME_LOCAL  EYEBALLS  ZEROES  COMPLETED_TRIPS  REQUESTS  \\\n",
       "0    10-Sep-12           7         5       0                2         2   \n",
       "1    10-Sep-12           8         6       0                2         2   \n",
       "2    10-Sep-12           9         8       3                0         0   \n",
       "3    10-Sep-12          10         9       2                0         1   \n",
       "4    10-Sep-12          11        11       1                4         4   \n",
       "..         ...         ...       ...     ...              ...       ...   \n",
       "331  24-Sep-12           2         3       3                0         2   \n",
       "332  24-Sep-12           3         3       3                0         1   \n",
       "333  24-Sep-12           4         1       1                0         0   \n",
       "334  24-Sep-12           5         4       2                1         1   \n",
       "335  24-Sep-12           6         9       1                2         2   \n",
       "\n",
       "     UNIQUE_DRIVERS  \n",
       "0                 9  \n",
       "1                14  \n",
       "2                14  \n",
       "3                14  \n",
       "4                11  \n",
       "..              ...  \n",
       "331               0  \n",
       "332               0  \n",
       "333               0  \n",
       "334               3  \n",
       "335               7  \n",
       "\n",
       "[336 rows x 7 columns]"
      ]
     },
     "execution_count": 6,
     "metadata": {},
     "output_type": "execute_result"
    }
   ],
   "source": [
    "uber_df = uber_pd.toPandas()\n",
    "uber_df"
   ]
  },
  {
   "cell_type": "code",
   "execution_count": 7,
   "id": "37c8785c",
   "metadata": {},
   "outputs": [],
   "source": [
    "uber_df['Datetime'] = uber_df['DATE'].astype('str')+' '+uber_df['TIME_LOCAL'].astype('str')"
   ]
  },
  {
   "cell_type": "code",
   "execution_count": 8,
   "id": "84b9caca",
   "metadata": {},
   "outputs": [
    {
     "data": {
      "text/html": [
       "<div>\n",
       "<style scoped>\n",
       "    .dataframe tbody tr th:only-of-type {\n",
       "        vertical-align: middle;\n",
       "    }\n",
       "\n",
       "    .dataframe tbody tr th {\n",
       "        vertical-align: top;\n",
       "    }\n",
       "\n",
       "    .dataframe thead th {\n",
       "        text-align: right;\n",
       "    }\n",
       "</style>\n",
       "<table border=\"1\" class=\"dataframe\">\n",
       "  <thead>\n",
       "    <tr style=\"text-align: right;\">\n",
       "      <th></th>\n",
       "      <th>DATE</th>\n",
       "      <th>TIME_LOCAL</th>\n",
       "      <th>EYEBALLS</th>\n",
       "      <th>ZEROES</th>\n",
       "      <th>COMPLETED_TRIPS</th>\n",
       "      <th>REQUESTS</th>\n",
       "      <th>UNIQUE_DRIVERS</th>\n",
       "      <th>Datetime</th>\n",
       "    </tr>\n",
       "  </thead>\n",
       "  <tbody>\n",
       "    <tr>\n",
       "      <th>0</th>\n",
       "      <td>2012-09-10</td>\n",
       "      <td>7</td>\n",
       "      <td>5</td>\n",
       "      <td>0</td>\n",
       "      <td>2</td>\n",
       "      <td>2</td>\n",
       "      <td>9</td>\n",
       "      <td>2012-09-10 07:00:00</td>\n",
       "    </tr>\n",
       "    <tr>\n",
       "      <th>1</th>\n",
       "      <td>2012-09-10</td>\n",
       "      <td>8</td>\n",
       "      <td>6</td>\n",
       "      <td>0</td>\n",
       "      <td>2</td>\n",
       "      <td>2</td>\n",
       "      <td>14</td>\n",
       "      <td>2012-09-10 08:00:00</td>\n",
       "    </tr>\n",
       "    <tr>\n",
       "      <th>2</th>\n",
       "      <td>2012-09-10</td>\n",
       "      <td>9</td>\n",
       "      <td>8</td>\n",
       "      <td>3</td>\n",
       "      <td>0</td>\n",
       "      <td>0</td>\n",
       "      <td>14</td>\n",
       "      <td>2012-09-10 09:00:00</td>\n",
       "    </tr>\n",
       "    <tr>\n",
       "      <th>3</th>\n",
       "      <td>2012-09-10</td>\n",
       "      <td>10</td>\n",
       "      <td>9</td>\n",
       "      <td>2</td>\n",
       "      <td>0</td>\n",
       "      <td>1</td>\n",
       "      <td>14</td>\n",
       "      <td>2012-09-10 10:00:00</td>\n",
       "    </tr>\n",
       "    <tr>\n",
       "      <th>4</th>\n",
       "      <td>2012-09-10</td>\n",
       "      <td>11</td>\n",
       "      <td>11</td>\n",
       "      <td>1</td>\n",
       "      <td>4</td>\n",
       "      <td>4</td>\n",
       "      <td>11</td>\n",
       "      <td>2012-09-10 11:00:00</td>\n",
       "    </tr>\n",
       "  </tbody>\n",
       "</table>\n",
       "</div>"
      ],
      "text/plain": [
       "        DATE  TIME_LOCAL  EYEBALLS  ZEROES  COMPLETED_TRIPS  REQUESTS  \\\n",
       "0 2012-09-10           7         5       0                2         2   \n",
       "1 2012-09-10           8         6       0                2         2   \n",
       "2 2012-09-10           9         8       3                0         0   \n",
       "3 2012-09-10          10         9       2                0         1   \n",
       "4 2012-09-10          11        11       1                4         4   \n",
       "\n",
       "   UNIQUE_DRIVERS            Datetime  \n",
       "0               9 2012-09-10 07:00:00  \n",
       "1              14 2012-09-10 08:00:00  \n",
       "2              14 2012-09-10 09:00:00  \n",
       "3              14 2012-09-10 10:00:00  \n",
       "4              11 2012-09-10 11:00:00  "
      ]
     },
     "execution_count": 8,
     "metadata": {},
     "output_type": "execute_result"
    }
   ],
   "source": [
    "uber_df['Datetime']=pd.to_datetime(uber_df['Datetime'], format='%d-%b-%y %H')\n",
    "uber_df['DATE']=pd.to_datetime(uber_df['DATE'], format='%d-%b-%y')\n",
    "uber_df.head()"
   ]
  },
  {
   "cell_type": "code",
   "execution_count": 9,
   "id": "b77b9329",
   "metadata": {},
   "outputs": [],
   "source": [
    "uber_df.to_csv('uber_transformed.csv',index=False)"
   ]
  },
  {
   "cell_type": "markdown",
   "id": "3ec556bb",
   "metadata": {},
   "source": [
    "The above command will generate a file in your pc at the current location of this notebook. Upload this transformed dataset to snowflake stage"
   ]
  },
  {
   "cell_type": "code",
   "execution_count": 10,
   "id": "e7ed002f",
   "metadata": {},
   "outputs": [],
   "source": [
    "uber_schema1 = StructType([\n",
    "    StructField(\"Date\", DateType()),\n",
    "    StructField(\"Time_Local\", IntegerType()),\n",
    "    StructField(\"Eyeballs\", IntegerType()),\n",
    "    StructField(\"Zeroes\", IntegerType()),\n",
    "    StructField(\"Completed_Trips\", IntegerType()),\n",
    "    StructField(\"Requests\", IntegerType()),\n",
    "    StructField(\"Unique_Drivers\", IntegerType()),\n",
    "    StructField(\"Datetime\", TimestampType())\n",
    "])"
   ]
  },
  {
   "cell_type": "code",
   "execution_count": 11,
   "id": "6aab87c4",
   "metadata": {},
   "outputs": [],
   "source": [
    "uber_df = session.read.option(\"field_delimiter\", \",\").option(\"skip_header\", 1)\\\n",
    "                 .schema(uber_schema1).csv(\"@snowpark_stage/uber_transformed.csv.gz\")"
   ]
  },
  {
   "cell_type": "code",
   "execution_count": 12,
   "id": "5ea09917",
   "metadata": {},
   "outputs": [
    {
     "name": "stdout",
     "output_type": "stream",
     "text": [
      "-------------------------------------------------------------------------------------------------------------------------------\n",
      "|\"DATE\"      |\"TIME_LOCAL\"  |\"EYEBALLS\"  |\"ZEROES\"  |\"COMPLETED_TRIPS\"  |\"REQUESTS\"  |\"UNIQUE_DRIVERS\"  |\"DATETIME\"           |\n",
      "-------------------------------------------------------------------------------------------------------------------------------\n",
      "|2012-09-10  |7             |5           |0         |2                  |2           |9                 |2012-09-10 07:00:00  |\n",
      "|2012-09-10  |8             |6           |0         |2                  |2           |14                |2012-09-10 08:00:00  |\n",
      "|2012-09-10  |9             |8           |3         |0                  |0           |14                |2012-09-10 09:00:00  |\n",
      "|2012-09-10  |10            |9           |2         |0                  |1           |14                |2012-09-10 10:00:00  |\n",
      "|2012-09-10  |11            |11          |1         |4                  |4           |11                |2012-09-10 11:00:00  |\n",
      "|2012-09-10  |12            |12          |0         |2                  |2           |11                |2012-09-10 12:00:00  |\n",
      "|2012-09-10  |13            |9           |1         |0                  |0           |9                 |2012-09-10 13:00:00  |\n",
      "|2012-09-10  |14            |12          |1         |0                  |0           |9                 |2012-09-10 14:00:00  |\n",
      "|2012-09-10  |15            |11          |2         |1                  |2           |7                 |2012-09-10 15:00:00  |\n",
      "|2012-09-10  |16            |11          |2         |3                  |4           |6                 |2012-09-10 16:00:00  |\n",
      "-------------------------------------------------------------------------------------------------------------------------------\n",
      "\n"
     ]
    }
   ],
   "source": [
    "uber_df.show()"
   ]
  },
  {
   "cell_type": "code",
   "execution_count": 13,
   "id": "6fec502f",
   "metadata": {},
   "outputs": [
    {
     "data": {
      "text/plain": [
       "StructType([StructField('DATE', DateType(), nullable=True), StructField('TIME_LOCAL', LongType(), nullable=True), StructField('EYEBALLS', LongType(), nullable=True), StructField('ZEROES', LongType(), nullable=True), StructField('COMPLETED_TRIPS', LongType(), nullable=True), StructField('REQUESTS', LongType(), nullable=True), StructField('UNIQUE_DRIVERS', LongType(), nullable=True), StructField('DATETIME', TimestampType(), nullable=True)])"
      ]
     },
     "execution_count": 13,
     "metadata": {},
     "output_type": "execute_result"
    }
   ],
   "source": [
    "uber_df.schema"
   ]
  },
  {
   "cell_type": "code",
   "execution_count": 14,
   "id": "e906a49a",
   "metadata": {},
   "outputs": [],
   "source": [
    "#create table in snowflake from snowpark dataframe\n",
    "uber_df.write.save_as_table(\"uber\", mode=\"overwrite\", table_type=\"transient\")"
   ]
  },
  {
   "cell_type": "markdown",
   "id": "9713626d",
   "metadata": {},
   "source": [
    "### 1. Which date had the most completed trips during the two-week period?"
   ]
  },
  {
   "cell_type": "code",
   "execution_count": 16,
   "id": "5e52cbb2",
   "metadata": {
    "scrolled": true
   },
   "outputs": [
    {
     "name": "stdout",
     "output_type": "stream",
     "text": [
      "-------------------------------------------------------------------------------------------------------------------------------\n",
      "|\"DATE\"      |\"TIME_LOCAL\"  |\"EYEBALLS\"  |\"ZEROES\"  |\"COMPLETED_TRIPS\"  |\"REQUESTS\"  |\"UNIQUE_DRIVERS\"  |\"DATETIME\"           |\n",
      "-------------------------------------------------------------------------------------------------------------------------------\n",
      "|2012-09-10  |7             |5           |0         |2                  |2           |9                 |2012-09-10 07:00:00  |\n",
      "|2012-09-10  |8             |6           |0         |2                  |2           |14                |2012-09-10 08:00:00  |\n",
      "|2012-09-10  |9             |8           |3         |0                  |0           |14                |2012-09-10 09:00:00  |\n",
      "|2012-09-10  |10            |9           |2         |0                  |1           |14                |2012-09-10 10:00:00  |\n",
      "|2012-09-10  |11            |11          |1         |4                  |4           |11                |2012-09-10 11:00:00  |\n",
      "|2012-09-10  |12            |12          |0         |2                  |2           |11                |2012-09-10 12:00:00  |\n",
      "|2012-09-10  |13            |9           |1         |0                  |0           |9                 |2012-09-10 13:00:00  |\n",
      "|2012-09-10  |14            |12          |1         |0                  |0           |9                 |2012-09-10 14:00:00  |\n",
      "|2012-09-10  |15            |11          |2         |1                  |2           |7                 |2012-09-10 15:00:00  |\n",
      "|2012-09-10  |16            |11          |2         |3                  |4           |6                 |2012-09-10 16:00:00  |\n",
      "-------------------------------------------------------------------------------------------------------------------------------\n",
      "\n"
     ]
    }
   ],
   "source": [
    "df = session.sql('select * from uber')\n",
    "df.show()"
   ]
  },
  {
   "cell_type": "code",
   "execution_count": 17,
   "id": "563e3473",
   "metadata": {},
   "outputs": [
    {
     "name": "stdout",
     "output_type": "stream",
     "text": [
      "----------------------------------------\n",
      "|\"DATE\"      |\"TOTAL_COMPLETED_TRIPS\"  |\n",
      "----------------------------------------\n",
      "|2012-09-22  |248                      |\n",
      "|2012-09-15  |199                      |\n",
      "|2012-09-21  |190                      |\n",
      "|2012-09-23  |111                      |\n",
      "|2012-09-14  |108                      |\n",
      "|2012-09-16  |93                       |\n",
      "|2012-09-12  |91                       |\n",
      "|2012-09-20  |70                       |\n",
      "|2012-09-17  |57                       |\n",
      "|2012-09-13  |45                       |\n",
      "----------------------------------------\n",
      "\n"
     ]
    }
   ],
   "source": [
    "trips_per_date = uber_df.groupBy('DATE').agg(sum('COMPLETED_TRIPS').alias('total_completed_trips')).sort(\"total_completed_trips\", ascending=False)\n",
    "trips_per_date.show()"
   ]
  },
  {
   "cell_type": "code",
   "execution_count": 18,
   "id": "6879f47c",
   "metadata": {},
   "outputs": [
    {
     "name": "stdout",
     "output_type": "stream",
     "text": [
      "--------------\n",
      "|\"DATE\"      |\n",
      "--------------\n",
      "|2012-09-22  |\n",
      "--------------\n",
      "\n"
     ]
    }
   ],
   "source": [
    "trips_per_date.select('Date').show(1)"
   ]
  },
  {
   "cell_type": "markdown",
   "id": "9ff1f909",
   "metadata": {},
   "source": [
    "### 2. What was the highest number of completed trips within a 24-hour period?"
   ]
  },
  {
   "cell_type": "code",
   "execution_count": 19,
   "id": "f3f97b91",
   "metadata": {},
   "outputs": [
    {
     "name": "stdout",
     "output_type": "stream",
     "text": [
      "------------------------------------\n",
      "|\"TOTAL_COMPLETED_TRIPS_IN_24HRS\"  |\n",
      "------------------------------------\n",
      "|248                               |\n",
      "------------------------------------\n",
      "\n"
     ]
    }
   ],
   "source": [
    "# Group the data by 24-hour window and sum the completed trips\n",
    "completed_trips_24hrs = uber_df.groupBy(F.date_trunc('day', 'DATETIME'),floor(hour('DATETIME')/24)) \\\n",
    "                                   .agg(F.sum(\"completed_Trips\").alias(\"Total_Completed_Trips\"))\n",
    "\n",
    "# Get the highest number of completed trips within a 24-hour period\n",
    "completed_trips_24hrs.select(max('Total_Completed_Trips').alias('Total_Completed_Trips_in_24hrs')).show()"
   ]
  },
  {
   "cell_type": "markdown",
   "id": "fbc49c50",
   "metadata": {},
   "source": [
    "### 3) Which hour of the day had the most requests during the two-week period?"
   ]
  },
  {
   "cell_type": "code",
   "execution_count": 20,
   "id": "360a3d9f",
   "metadata": {
    "scrolled": true
   },
   "outputs": [
    {
     "name": "stdout",
     "output_type": "stream",
     "text": [
      "-----------------------------------\n",
      "|\"TIME_LOCAL\"  |\"TOTAL_REQUESTS\"  |\n",
      "-----------------------------------\n",
      "|23            |184               |\n",
      "|22            |174               |\n",
      "|19            |156               |\n",
      "|0             |142               |\n",
      "|18            |119               |\n",
      "-----------------------------------\n",
      "\n"
     ]
    }
   ],
   "source": [
    "df_hour = uber_df.groupBy(\"TIME_LOCAL\").agg(sum('REQUESTS').alias('Total_Requests')).sort(\"Total_Requests\", ascending=False)\n",
    "df_hour.show(5)"
   ]
  },
  {
   "cell_type": "code",
   "execution_count": 21,
   "id": "77a0da7f",
   "metadata": {},
   "outputs": [
    {
     "data": {
      "text/plain": [
       "23"
      ]
     },
     "execution_count": 21,
     "metadata": {},
     "output_type": "execute_result"
    }
   ],
   "source": [
    "most_req_hr = df_hour.select('TIME_LOCAL').first()[0]\n",
    "most_req_hr"
   ]
  },
  {
   "cell_type": "markdown",
   "id": "0f4a8c55",
   "metadata": {},
   "source": [
    "### 4) What percentages of all zeroes during the two-week period occurred on weekend (Friday at 5 pm to Sunday at 3 am)? Tip: The local time value is the start of the hour (e.g. 15 is the hour from 3:00 pm - 4:00 pm)"
   ]
  },
  {
   "cell_type": "code",
   "execution_count": 22,
   "id": "ee6f4bb5",
   "metadata": {},
   "outputs": [
    {
     "name": "stdout",
     "output_type": "stream",
     "text": [
      "19.174247725682296\n"
     ]
    }
   ],
   "source": [
    "# count number of zeros that occurred on weekends\n",
    "zeroes_weekend = df.filter((df.TIME_LOCAL >= 17) | (df.TIME_LOCAL < 3)).filter((dayofweek(\"DATE\") == 6) | (dayofweek(\"DATE\") == 7))\\\n",
    "                   .agg(sum('ZEROES').alias('zeroes_weekend')).collect()[0]['ZEROES_WEEKEND']\n",
    "\n",
    "# total number of zeros\n",
    "total_zeroes = df.agg(sum(\"ZEROES\").alias('total_zeroes')).collect()[0]['TOTAL_ZEROES']\n",
    "\n",
    "print(zeroes_weekend/total_zeroes *100)"
   ]
  },
  {
   "cell_type": "markdown",
   "id": "6c25a263",
   "metadata": {},
   "source": [
    "### 5) What is the weighted average ratio of completed trips per driver during the two-week period? Tip: “Weighted average” means your answer should account for the total trip volume in each hour to determine the most accurate number in the whole period."
   ]
  },
  {
   "cell_type": "code",
   "execution_count": 29,
   "id": "e92ef319",
   "metadata": {},
   "outputs": [
    {
     "name": "stdout",
     "output_type": "stream",
     "text": [
      "-----------------------------\n",
      "|\"MIN(\"\"UNIQUE_DRIVERS\"\")\"  |\n",
      "-----------------------------\n",
      "|0                          |\n",
      "-----------------------------\n",
      "\n"
     ]
    }
   ],
   "source": [
    "uber_df.select(min('Unique_Drivers')).show()"
   ]
  },
  {
   "cell_type": "code",
   "execution_count": 30,
   "id": "657d7b39",
   "metadata": {},
   "outputs": [
    {
     "name": "stdout",
     "output_type": "stream",
     "text": [
      "------------------------------------------------------\n",
      "|\"DIVIDE(SUM(WEIGHTED_RATIO), SUM(TOTAL_COMPLETE...  |\n",
      "------------------------------------------------------\n",
      "|0.828403309158                                      |\n",
      "------------------------------------------------------\n",
      "\n"
     ]
    }
   ],
   "source": [
    "weighted_avg_ratio = uber_df.withColumn(\"trips_per_driver\", when(uber_df[\"Unique_Drivers\"]==0, 1).otherwise(uber_df[\"Completed_Trips\"] / uber_df[\"Unique_Drivers\"])) \\\n",
    "                 .groupBy(\"Date\", \"Time_Local\") \\\n",
    "                 .agg(avg(\"trips_per_driver\").alias(\"avg_completed_per_driver\"), sum(\"Completed_trips\").alias(\"total_completed_trips\")) \\\n",
    "                 .withColumn(\"weighted_ratio\", col(\"avg_completed_per_driver\") * col(\"total_completed_trips\")) \\\n",
    "                 .agg(sum(\"weighted_ratio\") / sum(\"total_completed_trips\"))\n",
    "weighted_avg_ratio.show()"
   ]
  },
  {
   "cell_type": "markdown",
   "id": "5e566681",
   "metadata": {},
   "source": [
    "### 6) In drafting a driver schedule in terms of 8 hours shifts, when are the busiest 8 consecutive hours over the two-week period in terms of unique requests? A new shift starts every 8 hours. Assume that a driver will work the same shift each day."
   ]
  },
  {
   "cell_type": "code",
   "execution_count": null,
   "id": "79e27307",
   "metadata": {},
   "outputs": [],
   "source": [
    "df.groupBy('Time_Local').agg(countDistinct('Requests').alias('Total_Requests')).show()"
   ]
  },
  {
   "cell_type": "code",
   "execution_count": 31,
   "id": "9866c3eb",
   "metadata": {
    "scrolled": true
   },
   "outputs": [
    {
     "name": "stdout",
     "output_type": "stream",
     "text": [
      "-------------------------------------------------\n",
      "|\"TIME_LOCAL\"  |\"TOTAL_REQUESTS\"  |\"SUM_8_HRS\"  |\n",
      "-------------------------------------------------\n",
      "|20            |12                |80           |\n",
      "|0             |11                |76           |\n",
      "|17            |10                |73           |\n",
      "|19            |10                |71           |\n",
      "|21            |10                |69           |\n",
      "|22            |10                |67           |\n",
      "|18            |9                 |65           |\n",
      "|15            |8                 |64           |\n",
      "|2             |8                 |64           |\n",
      "|23            |8                 |63           |\n",
      "-------------------------------------------------\n",
      "\n"
     ]
    }
   ],
   "source": [
    "\n",
    "requests_per_hour = uber_df.groupBy('Time_Local').agg(countDistinct('Requests').alias('Total_Requests'))\n",
    "window_8hr = Window.orderBy(col('Total_Requests').desc()).rowsBetween(0,7)\n",
    "\n",
    "busiest_8_hrs = requests_per_hour.select('*', sum('Total_Requests').over(window_8hr).alias(\"sum_8_hrs\"))\\\n",
    "                                 .orderBy(col(\"sum_8_hrs\").desc())\n",
    "busiest_8_hrs.show()"
   ]
  },
  {
   "cell_type": "code",
   "execution_count": 33,
   "id": "061c52bd",
   "metadata": {},
   "outputs": [
    {
     "name": "stdout",
     "output_type": "stream",
     "text": [
      "-------------------------------------------------\n",
      "|\"TIME_LOCAL\"  |\"TOTAL_REQUESTS\"  |\"SUM_8_HRS\"  |\n",
      "-------------------------------------------------\n",
      "|20            |12                |80           |\n",
      "-------------------------------------------------\n",
      "\n"
     ]
    }
   ],
   "source": [
    "busiest_8_hrs.limit(1).show()"
   ]
  },
  {
   "cell_type": "markdown",
   "id": "8afde34f",
   "metadata": {},
   "source": [
    "### 8) In which 72-hour period is the ratio of Zeroes to Eyeballs the highest?"
   ]
  },
  {
   "cell_type": "code",
   "execution_count": 50,
   "id": "51be0411",
   "metadata": {},
   "outputs": [
    {
     "name": "stdout",
     "output_type": "stream",
     "text": [
      "--------------------------------------------------------------------------------\n",
      "|\"CAST(DIVIDE(HOUR(DATETIME), LITERAL()))\"  |\"ZEROES\"  |\"EYEBALLS\"  |\"RATIO\"   |\n",
      "--------------------------------------------------------------------------------\n",
      "|0                                          |1429      |6687        |0.213698  |\n",
      "--------------------------------------------------------------------------------\n",
      "\n"
     ]
    }
   ],
   "source": [
    "# Group the data by 72-hour periods and calculate the ratio of zeroes to eyeballs for each period\n",
    "period_ratios = (uber_df.groupBy((hour(col(\"Datetime\")) / (72*3600)).cast(\"int\"))\\\n",
    "                   .agg(sum(\"Zeroes\").alias(\"zeroes\"), sum(\"Eyeballs\").alias(\"eyeballs\"))\\\n",
    "                   .withColumn(\"ratio\", col(\"zeroes\") / col(\"eyeballs\"))\n",
    ")\n",
    "\n",
    "# Find the period with the highest ratio\n",
    "highest_ratio_period = period_ratios.orderBy(col(\"ratio\").desc()).limit(1)\n",
    "\n",
    "# Print the result\n",
    "highest_ratio_period.show()"
   ]
  },
  {
   "cell_type": "markdown",
   "id": "e69687c5",
   "metadata": {},
   "source": [
    "### 8. If you could add 5 drivers to any single hour of every day during the two-week period, which hour should you add them to? Hint: Consider both rider eyeballs and driver supply when choosing"
   ]
  },
  {
   "cell_type": "code",
   "execution_count": 53,
   "id": "472165ef",
   "metadata": {},
   "outputs": [
    {
     "name": "stdout",
     "output_type": "stream",
     "text": [
      "----------------------------------------\n",
      "|\"TIME_LOCAL\"  |\"REQUESTS_PER_DRIVER\"  |\n",
      "----------------------------------------\n",
      "|2             |20.000000              |\n",
      "----------------------------------------\n",
      "\n"
     ]
    }
   ],
   "source": [
    "requests_per_driver = (uber_df.groupBy('Time_Local')\\\n",
    "                         .agg((sum('Requests') / countDistinct('Unique_Drivers')).alias('requests_per_driver'))\n",
    ")\n",
    "\n",
    "requests_per_driver.sort('requests_per_driver', ascending=False).show(1)"
   ]
  },
  {
   "cell_type": "markdown",
   "id": "d7d1ccb5",
   "metadata": {},
   "source": [
    "### 9. Looking at the data from all two weeks, which time might make the most sense to consider a true “end day” instead of midnight? (i.e when are supply and demand at both their natural minimums)"
   ]
  },
  {
   "cell_type": "code",
   "execution_count": 58,
   "id": "0de402e9",
   "metadata": {},
   "outputs": [
    {
     "name": "stdout",
     "output_type": "stream",
     "text": [
      "---------------------------------------------------------------\n",
      "|\"TIME_LOCAL\"  |\"AVG_COMPLETED_TRIPS\"  |\"AVG_UNIQUE_DRIVERS\"  |\n",
      "---------------------------------------------------------------\n",
      "|4             |0.142857               |0.642857              |\n",
      "---------------------------------------------------------------\n",
      "\n"
     ]
    }
   ],
   "source": [
    "uber_df.groupBy('Time_Local')\\\n",
    "       .agg(avg('Completed_Trips').alias('Avg_Completed_Trips'), avg('Unique_Drivers').alias('avg_unique_drivers'))\\\n",
    "       .orderBy('Avg_Completed_Trips', 'avg_unique_drivers').show(1)"
   ]
  },
  {
   "cell_type": "code",
   "execution_count": null,
   "id": "e1536a77",
   "metadata": {},
   "outputs": [],
   "source": []
  }
 ],
 "metadata": {
  "kernelspec": {
   "display_name": "onnxtosnowpark",
   "language": "python",
   "name": "onnxtosnowpark"
  },
  "language_info": {
   "codemirror_mode": {
    "name": "ipython",
    "version": 3
   },
   "file_extension": ".py",
   "mimetype": "text/x-python",
   "name": "python",
   "nbconvert_exporter": "python",
   "pygments_lexer": "ipython3",
   "version": "3.8.16"
  }
 },
 "nbformat": 4,
 "nbformat_minor": 5
}
